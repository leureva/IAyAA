{
  "nbformat": 4,
  "nbformat_minor": 0,
  "metadata": {
    "colab": {
      "provenance": []
    },
    "kernelspec": {
      "name": "python3",
      "display_name": "Python 3"
    },
    "accelerator": "GPU",
    "gpuClass": "standard"
  },
  "cells": [
    {
      "cell_type": "markdown",
      "source": [
        "# **Inteligencia Artificial y Aprendizaje Automático**\n",
        "## **Redes Neuronales Artificiales**\n",
        "## **Tarea 3**\n",
        "#### **Dr Luis Eduardo Falcón Morales**\n",
        "#### **Tecnológico de Monterrey**"
      ],
      "metadata": {
        "id": "uQKKpw6CNZK3"
      }
    },
    {
      "cell_type": "markdown",
      "source": [
        "#**Análisis de Sentimiento - Amazon_Baby**\n",
        "\n"
      ],
      "metadata": {
        "id": "6eCzc9TbHPF-"
      }
    },
    {
      "cell_type": "code",
      "metadata": {
        "id": "wCL2p6MA8NuT"
      },
      "source": [
        "import pandas as pd\n",
        "import numpy as np\n",
        "import matplotlib.pyplot as plt\n",
        "\n",
        "import nltk\n",
        "from nltk.corpus import stopwords\n",
        "\n",
        "import re\n",
        "import string\n",
        "\n",
        "from collections import Counter\n",
        "\n",
        "from sklearn.model_selection import train_test_split\n",
        "from sklearn.linear_model import LogisticRegression\n",
        "from sklearn.feature_extraction.text import TfidfVectorizer\n",
        "from sklearn.metrics import confusion_matrix\n",
        "\n",
        "\n",
        "from keras.preprocessing.text import Tokenizer\n",
        "from tensorflow.keras import regularizers\n",
        "\n",
        "from keras.models import Sequential\n",
        "from keras.layers import Dense, Dropout, Flatten, Embedding, LSTM, Bidirectional, RNN, GRU, SimpleRNN\n",
        "\n",
        "# import keras\n",
        "from tensorflow.keras.preprocessing.text import one_hot, Tokenizer\n",
        "from tensorflow.keras.preprocessing.sequence import pad_sequences\n",
        "\n"
      ],
      "execution_count": 9,
      "outputs": []
    },
    {
      "cell_type": "code",
      "metadata": {
        "id": "2V1Sx5oV_8KZ",
        "colab": {
          "base_uri": "https://localhost:8080/"
        },
        "outputId": "97ce9e35-48ad-4e21-ab6a-5694c2c2a309"
      },
      "source": [
        "nltk.download('punkt')\n",
        "nltk.download('stopwords')"
      ],
      "execution_count": 10,
      "outputs": [
        {
          "output_type": "stream",
          "name": "stderr",
          "text": [
            "[nltk_data] Downloading package punkt to /root/nltk_data...\n",
            "[nltk_data]   Package punkt is already up-to-date!\n",
            "[nltk_data] Downloading package stopwords to /root/nltk_data...\n",
            "[nltk_data]   Package stopwords is already up-to-date!\n"
          ]
        },
        {
          "output_type": "execute_result",
          "data": {
            "text/plain": [
              "True"
            ]
          },
          "metadata": {},
          "execution_count": 10
        }
      ]
    },
    {
      "cell_type": "markdown",
      "metadata": {
        "id": "i_jdbZm6ACcM"
      },
      "source": [
        "###**Definamos primero nuestro conjunto de Stopwords que no incluya las negaciones:**\n",
        "\n",
        "### Puedes usar el conjunto Stopwords por default que incluye las negaciones y al final el modelo sale como con 1% menor de accuracy."
      ]
    },
    {
      "cell_type": "code",
      "metadata": {
        "id": "onl1GCFUAKTH"
      },
      "source": [
        "negwords = [ 'no', 'nor', 'not', 'ain', 'aren', \"aren't\", 'don', \"don't\", 'couldn', \"couldn't\", 'didn', \"didn't\", 'doesn', \"doesn't\", 'hadn', \"hadn't\", 'hasn', \"hasn't\", 'haven', \"haven't\", 'isn', \"isn't\", 'mightn', \"mightn't\", 'mustn', \"mustn't\", 'needn', \"needn't\", 'shan', \"shan't\", 'shouldn', \"shouldn't\", 'wasn', \"wasn't\", 'weren', \"weren't\", 'won', \"won't\", 'wouldn', \"wouldn't\"]"
      ],
      "execution_count": 11,
      "outputs": []
    },
    {
      "cell_type": "code",
      "metadata": {
        "id": "_uj1aTYPANe1",
        "colab": {
          "base_uri": "https://localhost:8080/"
        },
        "outputId": "a649898a-b802-4ad8-a0de-bc4fbf871aa7"
      },
      "source": [
        "mystopwords = [ w for w in stopwords.words('english') if w not in negwords]\n",
        "print(mystopwords)"
      ],
      "execution_count": 12,
      "outputs": [
        {
          "output_type": "stream",
          "name": "stdout",
          "text": [
            "['i', 'me', 'my', 'myself', 'we', 'our', 'ours', 'ourselves', 'you', \"you're\", \"you've\", \"you'll\", \"you'd\", 'your', 'yours', 'yourself', 'yourselves', 'he', 'him', 'his', 'himself', 'she', \"she's\", 'her', 'hers', 'herself', 'it', \"it's\", 'its', 'itself', 'they', 'them', 'their', 'theirs', 'themselves', 'what', 'which', 'who', 'whom', 'this', 'that', \"that'll\", 'these', 'those', 'am', 'is', 'are', 'was', 'were', 'be', 'been', 'being', 'have', 'has', 'had', 'having', 'do', 'does', 'did', 'doing', 'a', 'an', 'the', 'and', 'but', 'if', 'or', 'because', 'as', 'until', 'while', 'of', 'at', 'by', 'for', 'with', 'about', 'against', 'between', 'into', 'through', 'during', 'before', 'after', 'above', 'below', 'to', 'from', 'up', 'down', 'in', 'out', 'on', 'off', 'over', 'under', 'again', 'further', 'then', 'once', 'here', 'there', 'when', 'where', 'why', 'how', 'all', 'any', 'both', 'each', 'few', 'more', 'most', 'other', 'some', 'such', 'only', 'own', 'same', 'so', 'than', 'too', 'very', 's', 't', 'can', 'will', 'just', 'should', \"should've\", 'now', 'd', 'll', 'm', 'o', 're', 've', 'y', 'ma']\n"
          ]
        }
      ]
    },
    {
      "cell_type": "code",
      "metadata": {
        "id": "AGrjPhwkNuGu",
        "colab": {
          "base_uri": "https://localhost:8080/"
        },
        "outputId": "89a7a989-8ca1-4e45-a2b1-867a65426bae"
      },
      "source": [
        "mystopwords.extend([\"themthat\", \"perfectlywould\"])\n",
        "print(mystopwords)"
      ],
      "execution_count": 13,
      "outputs": [
        {
          "output_type": "stream",
          "name": "stdout",
          "text": [
            "['i', 'me', 'my', 'myself', 'we', 'our', 'ours', 'ourselves', 'you', \"you're\", \"you've\", \"you'll\", \"you'd\", 'your', 'yours', 'yourself', 'yourselves', 'he', 'him', 'his', 'himself', 'she', \"she's\", 'her', 'hers', 'herself', 'it', \"it's\", 'its', 'itself', 'they', 'them', 'their', 'theirs', 'themselves', 'what', 'which', 'who', 'whom', 'this', 'that', \"that'll\", 'these', 'those', 'am', 'is', 'are', 'was', 'were', 'be', 'been', 'being', 'have', 'has', 'had', 'having', 'do', 'does', 'did', 'doing', 'a', 'an', 'the', 'and', 'but', 'if', 'or', 'because', 'as', 'until', 'while', 'of', 'at', 'by', 'for', 'with', 'about', 'against', 'between', 'into', 'through', 'during', 'before', 'after', 'above', 'below', 'to', 'from', 'up', 'down', 'in', 'out', 'on', 'off', 'over', 'under', 'again', 'further', 'then', 'once', 'here', 'there', 'when', 'where', 'why', 'how', 'all', 'any', 'both', 'each', 'few', 'more', 'most', 'other', 'some', 'such', 'only', 'own', 'same', 'so', 'than', 'too', 'very', 's', 't', 'can', 'will', 'just', 'should', \"should've\", 'now', 'd', 'll', 'm', 'o', 're', 've', 'y', 'ma', 'themthat', 'perfectlywould']\n"
          ]
        }
      ]
    },
    {
      "cell_type": "markdown",
      "metadata": {
        "id": "w3EvJg8YAkEe"
      },
      "source": [
        "###**Cargamos la base de datos de Amazon_baby**"
      ]
    },
    {
      "cell_type": "code",
      "metadata": {
        "id": "1bXOeDGf9GIG",
        "colab": {
          "base_uri": "https://localhost:8080/",
          "height": 206
        },
        "outputId": "a9bec419-b9d0-4734-c2e2-d13a625d6324"
      },
      "source": [
        "df1 = pd.read_csv(\"amazonbaby5000.csv\")\n",
        "df1.head()"
      ],
      "execution_count": 14,
      "outputs": [
        {
          "output_type": "execute_result",
          "data": {
            "text/plain": [
              "                                              review  rating\n",
              "0  I think it is more Expensive than drugstore th...       0\n",
              "1  When I saw this on Amazon, I put it into my wi...       1\n",
              "2  We really like these valances.  They have such...       1\n",
              "3  No light emits from the night light. They pain...       0\n",
              "4  I was really hoping for this to be a conventie...       0"
            ],
            "text/html": [
              "\n",
              "  <div id=\"df-a4f4c132-4b22-41ae-88d2-397865bcfade\" class=\"colab-df-container\">\n",
              "    <div>\n",
              "<style scoped>\n",
              "    .dataframe tbody tr th:only-of-type {\n",
              "        vertical-align: middle;\n",
              "    }\n",
              "\n",
              "    .dataframe tbody tr th {\n",
              "        vertical-align: top;\n",
              "    }\n",
              "\n",
              "    .dataframe thead th {\n",
              "        text-align: right;\n",
              "    }\n",
              "</style>\n",
              "<table border=\"1\" class=\"dataframe\">\n",
              "  <thead>\n",
              "    <tr style=\"text-align: right;\">\n",
              "      <th></th>\n",
              "      <th>review</th>\n",
              "      <th>rating</th>\n",
              "    </tr>\n",
              "  </thead>\n",
              "  <tbody>\n",
              "    <tr>\n",
              "      <th>0</th>\n",
              "      <td>I think it is more Expensive than drugstore th...</td>\n",
              "      <td>0</td>\n",
              "    </tr>\n",
              "    <tr>\n",
              "      <th>1</th>\n",
              "      <td>When I saw this on Amazon, I put it into my wi...</td>\n",
              "      <td>1</td>\n",
              "    </tr>\n",
              "    <tr>\n",
              "      <th>2</th>\n",
              "      <td>We really like these valances.  They have such...</td>\n",
              "      <td>1</td>\n",
              "    </tr>\n",
              "    <tr>\n",
              "      <th>3</th>\n",
              "      <td>No light emits from the night light. They pain...</td>\n",
              "      <td>0</td>\n",
              "    </tr>\n",
              "    <tr>\n",
              "      <th>4</th>\n",
              "      <td>I was really hoping for this to be a conventie...</td>\n",
              "      <td>0</td>\n",
              "    </tr>\n",
              "  </tbody>\n",
              "</table>\n",
              "</div>\n",
              "    <div class=\"colab-df-buttons\">\n",
              "\n",
              "  <div class=\"colab-df-container\">\n",
              "    <button class=\"colab-df-convert\" onclick=\"convertToInteractive('df-a4f4c132-4b22-41ae-88d2-397865bcfade')\"\n",
              "            title=\"Convert this dataframe to an interactive table.\"\n",
              "            style=\"display:none;\">\n",
              "\n",
              "  <svg xmlns=\"http://www.w3.org/2000/svg\" height=\"24px\" viewBox=\"0 -960 960 960\">\n",
              "    <path d=\"M120-120v-720h720v720H120Zm60-500h600v-160H180v160Zm220 220h160v-160H400v160Zm0 220h160v-160H400v160ZM180-400h160v-160H180v160Zm440 0h160v-160H620v160ZM180-180h160v-160H180v160Zm440 0h160v-160H620v160Z\"/>\n",
              "  </svg>\n",
              "    </button>\n",
              "\n",
              "  <style>\n",
              "    .colab-df-container {\n",
              "      display:flex;\n",
              "      gap: 12px;\n",
              "    }\n",
              "\n",
              "    .colab-df-convert {\n",
              "      background-color: #E8F0FE;\n",
              "      border: none;\n",
              "      border-radius: 50%;\n",
              "      cursor: pointer;\n",
              "      display: none;\n",
              "      fill: #1967D2;\n",
              "      height: 32px;\n",
              "      padding: 0 0 0 0;\n",
              "      width: 32px;\n",
              "    }\n",
              "\n",
              "    .colab-df-convert:hover {\n",
              "      background-color: #E2EBFA;\n",
              "      box-shadow: 0px 1px 2px rgba(60, 64, 67, 0.3), 0px 1px 3px 1px rgba(60, 64, 67, 0.15);\n",
              "      fill: #174EA6;\n",
              "    }\n",
              "\n",
              "    .colab-df-buttons div {\n",
              "      margin-bottom: 4px;\n",
              "    }\n",
              "\n",
              "    [theme=dark] .colab-df-convert {\n",
              "      background-color: #3B4455;\n",
              "      fill: #D2E3FC;\n",
              "    }\n",
              "\n",
              "    [theme=dark] .colab-df-convert:hover {\n",
              "      background-color: #434B5C;\n",
              "      box-shadow: 0px 1px 3px 1px rgba(0, 0, 0, 0.15);\n",
              "      filter: drop-shadow(0px 1px 2px rgba(0, 0, 0, 0.3));\n",
              "      fill: #FFFFFF;\n",
              "    }\n",
              "  </style>\n",
              "\n",
              "    <script>\n",
              "      const buttonEl =\n",
              "        document.querySelector('#df-a4f4c132-4b22-41ae-88d2-397865bcfade button.colab-df-convert');\n",
              "      buttonEl.style.display =\n",
              "        google.colab.kernel.accessAllowed ? 'block' : 'none';\n",
              "\n",
              "      async function convertToInteractive(key) {\n",
              "        const element = document.querySelector('#df-a4f4c132-4b22-41ae-88d2-397865bcfade');\n",
              "        const dataTable =\n",
              "          await google.colab.kernel.invokeFunction('convertToInteractive',\n",
              "                                                    [key], {});\n",
              "        if (!dataTable) return;\n",
              "\n",
              "        const docLinkHtml = 'Like what you see? Visit the ' +\n",
              "          '<a target=\"_blank\" href=https://colab.research.google.com/notebooks/data_table.ipynb>data table notebook</a>'\n",
              "          + ' to learn more about interactive tables.';\n",
              "        element.innerHTML = '';\n",
              "        dataTable['output_type'] = 'display_data';\n",
              "        await google.colab.output.renderOutput(dataTable, element);\n",
              "        const docLink = document.createElement('div');\n",
              "        docLink.innerHTML = docLinkHtml;\n",
              "        element.appendChild(docLink);\n",
              "      }\n",
              "    </script>\n",
              "  </div>\n",
              "\n",
              "\n",
              "<div id=\"df-b706db0b-8ba5-4914-a38b-32a57fce6bfd\">\n",
              "  <button class=\"colab-df-quickchart\" onclick=\"quickchart('df-b706db0b-8ba5-4914-a38b-32a57fce6bfd')\"\n",
              "            title=\"Suggest charts\"\n",
              "            style=\"display:none;\">\n",
              "\n",
              "<svg xmlns=\"http://www.w3.org/2000/svg\" height=\"24px\"viewBox=\"0 0 24 24\"\n",
              "     width=\"24px\">\n",
              "    <g>\n",
              "        <path d=\"M19 3H5c-1.1 0-2 .9-2 2v14c0 1.1.9 2 2 2h14c1.1 0 2-.9 2-2V5c0-1.1-.9-2-2-2zM9 17H7v-7h2v7zm4 0h-2V7h2v10zm4 0h-2v-4h2v4z\"/>\n",
              "    </g>\n",
              "</svg>\n",
              "  </button>\n",
              "\n",
              "<style>\n",
              "  .colab-df-quickchart {\n",
              "      --bg-color: #E8F0FE;\n",
              "      --fill-color: #1967D2;\n",
              "      --hover-bg-color: #E2EBFA;\n",
              "      --hover-fill-color: #174EA6;\n",
              "      --disabled-fill-color: #AAA;\n",
              "      --disabled-bg-color: #DDD;\n",
              "  }\n",
              "\n",
              "  [theme=dark] .colab-df-quickchart {\n",
              "      --bg-color: #3B4455;\n",
              "      --fill-color: #D2E3FC;\n",
              "      --hover-bg-color: #434B5C;\n",
              "      --hover-fill-color: #FFFFFF;\n",
              "      --disabled-bg-color: #3B4455;\n",
              "      --disabled-fill-color: #666;\n",
              "  }\n",
              "\n",
              "  .colab-df-quickchart {\n",
              "    background-color: var(--bg-color);\n",
              "    border: none;\n",
              "    border-radius: 50%;\n",
              "    cursor: pointer;\n",
              "    display: none;\n",
              "    fill: var(--fill-color);\n",
              "    height: 32px;\n",
              "    padding: 0;\n",
              "    width: 32px;\n",
              "  }\n",
              "\n",
              "  .colab-df-quickchart:hover {\n",
              "    background-color: var(--hover-bg-color);\n",
              "    box-shadow: 0 1px 2px rgba(60, 64, 67, 0.3), 0 1px 3px 1px rgba(60, 64, 67, 0.15);\n",
              "    fill: var(--button-hover-fill-color);\n",
              "  }\n",
              "\n",
              "  .colab-df-quickchart-complete:disabled,\n",
              "  .colab-df-quickchart-complete:disabled:hover {\n",
              "    background-color: var(--disabled-bg-color);\n",
              "    fill: var(--disabled-fill-color);\n",
              "    box-shadow: none;\n",
              "  }\n",
              "\n",
              "  .colab-df-spinner {\n",
              "    border: 2px solid var(--fill-color);\n",
              "    border-color: transparent;\n",
              "    border-bottom-color: var(--fill-color);\n",
              "    animation:\n",
              "      spin 1s steps(1) infinite;\n",
              "  }\n",
              "\n",
              "  @keyframes spin {\n",
              "    0% {\n",
              "      border-color: transparent;\n",
              "      border-bottom-color: var(--fill-color);\n",
              "      border-left-color: var(--fill-color);\n",
              "    }\n",
              "    20% {\n",
              "      border-color: transparent;\n",
              "      border-left-color: var(--fill-color);\n",
              "      border-top-color: var(--fill-color);\n",
              "    }\n",
              "    30% {\n",
              "      border-color: transparent;\n",
              "      border-left-color: var(--fill-color);\n",
              "      border-top-color: var(--fill-color);\n",
              "      border-right-color: var(--fill-color);\n",
              "    }\n",
              "    40% {\n",
              "      border-color: transparent;\n",
              "      border-right-color: var(--fill-color);\n",
              "      border-top-color: var(--fill-color);\n",
              "    }\n",
              "    60% {\n",
              "      border-color: transparent;\n",
              "      border-right-color: var(--fill-color);\n",
              "    }\n",
              "    80% {\n",
              "      border-color: transparent;\n",
              "      border-right-color: var(--fill-color);\n",
              "      border-bottom-color: var(--fill-color);\n",
              "    }\n",
              "    90% {\n",
              "      border-color: transparent;\n",
              "      border-bottom-color: var(--fill-color);\n",
              "    }\n",
              "  }\n",
              "</style>\n",
              "\n",
              "  <script>\n",
              "    async function quickchart(key) {\n",
              "      const quickchartButtonEl =\n",
              "        document.querySelector('#' + key + ' button');\n",
              "      quickchartButtonEl.disabled = true;  // To prevent multiple clicks.\n",
              "      quickchartButtonEl.classList.add('colab-df-spinner');\n",
              "      try {\n",
              "        const charts = await google.colab.kernel.invokeFunction(\n",
              "            'suggestCharts', [key], {});\n",
              "      } catch (error) {\n",
              "        console.error('Error during call to suggestCharts:', error);\n",
              "      }\n",
              "      quickchartButtonEl.classList.remove('colab-df-spinner');\n",
              "      quickchartButtonEl.classList.add('colab-df-quickchart-complete');\n",
              "    }\n",
              "    (() => {\n",
              "      let quickchartButtonEl =\n",
              "        document.querySelector('#df-b706db0b-8ba5-4914-a38b-32a57fce6bfd button');\n",
              "      quickchartButtonEl.style.display =\n",
              "        google.colab.kernel.accessAllowed ? 'block' : 'none';\n",
              "    })();\n",
              "  </script>\n",
              "</div>\n",
              "\n",
              "    </div>\n",
              "  </div>\n"
            ],
            "application/vnd.google.colaboratory.intrinsic+json": {
              "type": "dataframe",
              "variable_name": "df1",
              "summary": "{\n  \"name\": \"df1\",\n  \"rows\": 5000,\n  \"fields\": [\n    {\n      \"column\": \"review\",\n      \"properties\": {\n        \"dtype\": \"string\",\n        \"num_unique_values\": 5000,\n        \"samples\": [\n          \"This toy is so amazing - my friends had raved about it and so I decided to get one.  Our 3 month old doesn't have much interest in toys yet but she loves this.  It can entertain her a long time!  It's now my go-to baby shower add on gift.\",\n          \"this was a great price for what i got, if you go into other stores you will see robs similar to this and it will be close to 30.00$. my sister in law loves this for her little boy!\",\n          \"I think the description is very accurate, It's great, looks like high quality, and durable. i love that it teaches you on one side the name of the animal with a picture and on the other side how to spell it in korean.\"\n        ],\n        \"semantic_type\": \"\",\n        \"description\": \"\"\n      }\n    },\n    {\n      \"column\": \"rating\",\n      \"properties\": {\n        \"dtype\": \"number\",\n        \"std\": 0,\n        \"min\": 0,\n        \"max\": 1,\n        \"num_unique_values\": 2,\n        \"samples\": [\n          1,\n          0\n        ],\n        \"semantic_type\": \"\",\n        \"description\": \"\"\n      }\n    }\n  ]\n}"
            }
          },
          "metadata": {},
          "execution_count": 14
        }
      ]
    },
    {
      "cell_type": "code",
      "metadata": {
        "id": "yD_SHy2W9Kpl",
        "colab": {
          "base_uri": "https://localhost:8080/"
        },
        "outputId": "c8c5b5f4-c0df-4c6b-f5fb-5e035a515ac5"
      },
      "source": [
        "df1.dropna(inplace=True)   # borra los renglones NaN con todo e índice, es decir, ahora se salta dicho índice.\n",
        "df1.reset_index(drop=True,inplace=True)   # para que se reinicialicen los índices y no queden salteados.\n",
        "df1.info()"
      ],
      "execution_count": 15,
      "outputs": [
        {
          "output_type": "stream",
          "name": "stdout",
          "text": [
            "<class 'pandas.core.frame.DataFrame'>\n",
            "RangeIndex: 5000 entries, 0 to 4999\n",
            "Data columns (total 2 columns):\n",
            " #   Column  Non-Null Count  Dtype \n",
            "---  ------  --------------  ----- \n",
            " 0   review  5000 non-null   object\n",
            " 1   rating  5000 non-null   int64 \n",
            "dtypes: int64(1), object(1)\n",
            "memory usage: 78.2+ KB\n"
          ]
        }
      ]
    },
    {
      "cell_type": "code",
      "metadata": {
        "id": "4_yy0A__9OoO"
      },
      "source": [
        "my_df = df1[['review','rating']]"
      ],
      "execution_count": 16,
      "outputs": []
    },
    {
      "cell_type": "code",
      "metadata": {
        "id": "jv3FpJK89gB9",
        "colab": {
          "base_uri": "https://localhost:8080/",
          "height": 206
        },
        "outputId": "5480fd4d-450c-4a96-ff41-9bf0079310ae"
      },
      "source": [
        "my_df.head()"
      ],
      "execution_count": 17,
      "outputs": [
        {
          "output_type": "execute_result",
          "data": {
            "text/plain": [
              "                                              review  rating\n",
              "0  I think it is more Expensive than drugstore th...       0\n",
              "1  When I saw this on Amazon, I put it into my wi...       1\n",
              "2  We really like these valances.  They have such...       1\n",
              "3  No light emits from the night light. They pain...       0\n",
              "4  I was really hoping for this to be a conventie...       0"
            ],
            "text/html": [
              "\n",
              "  <div id=\"df-91c8af9a-f492-415d-8e05-cd290dbe349d\" class=\"colab-df-container\">\n",
              "    <div>\n",
              "<style scoped>\n",
              "    .dataframe tbody tr th:only-of-type {\n",
              "        vertical-align: middle;\n",
              "    }\n",
              "\n",
              "    .dataframe tbody tr th {\n",
              "        vertical-align: top;\n",
              "    }\n",
              "\n",
              "    .dataframe thead th {\n",
              "        text-align: right;\n",
              "    }\n",
              "</style>\n",
              "<table border=\"1\" class=\"dataframe\">\n",
              "  <thead>\n",
              "    <tr style=\"text-align: right;\">\n",
              "      <th></th>\n",
              "      <th>review</th>\n",
              "      <th>rating</th>\n",
              "    </tr>\n",
              "  </thead>\n",
              "  <tbody>\n",
              "    <tr>\n",
              "      <th>0</th>\n",
              "      <td>I think it is more Expensive than drugstore th...</td>\n",
              "      <td>0</td>\n",
              "    </tr>\n",
              "    <tr>\n",
              "      <th>1</th>\n",
              "      <td>When I saw this on Amazon, I put it into my wi...</td>\n",
              "      <td>1</td>\n",
              "    </tr>\n",
              "    <tr>\n",
              "      <th>2</th>\n",
              "      <td>We really like these valances.  They have such...</td>\n",
              "      <td>1</td>\n",
              "    </tr>\n",
              "    <tr>\n",
              "      <th>3</th>\n",
              "      <td>No light emits from the night light. They pain...</td>\n",
              "      <td>0</td>\n",
              "    </tr>\n",
              "    <tr>\n",
              "      <th>4</th>\n",
              "      <td>I was really hoping for this to be a conventie...</td>\n",
              "      <td>0</td>\n",
              "    </tr>\n",
              "  </tbody>\n",
              "</table>\n",
              "</div>\n",
              "    <div class=\"colab-df-buttons\">\n",
              "\n",
              "  <div class=\"colab-df-container\">\n",
              "    <button class=\"colab-df-convert\" onclick=\"convertToInteractive('df-91c8af9a-f492-415d-8e05-cd290dbe349d')\"\n",
              "            title=\"Convert this dataframe to an interactive table.\"\n",
              "            style=\"display:none;\">\n",
              "\n",
              "  <svg xmlns=\"http://www.w3.org/2000/svg\" height=\"24px\" viewBox=\"0 -960 960 960\">\n",
              "    <path d=\"M120-120v-720h720v720H120Zm60-500h600v-160H180v160Zm220 220h160v-160H400v160Zm0 220h160v-160H400v160ZM180-400h160v-160H180v160Zm440 0h160v-160H620v160ZM180-180h160v-160H180v160Zm440 0h160v-160H620v160Z\"/>\n",
              "  </svg>\n",
              "    </button>\n",
              "\n",
              "  <style>\n",
              "    .colab-df-container {\n",
              "      display:flex;\n",
              "      gap: 12px;\n",
              "    }\n",
              "\n",
              "    .colab-df-convert {\n",
              "      background-color: #E8F0FE;\n",
              "      border: none;\n",
              "      border-radius: 50%;\n",
              "      cursor: pointer;\n",
              "      display: none;\n",
              "      fill: #1967D2;\n",
              "      height: 32px;\n",
              "      padding: 0 0 0 0;\n",
              "      width: 32px;\n",
              "    }\n",
              "\n",
              "    .colab-df-convert:hover {\n",
              "      background-color: #E2EBFA;\n",
              "      box-shadow: 0px 1px 2px rgba(60, 64, 67, 0.3), 0px 1px 3px 1px rgba(60, 64, 67, 0.15);\n",
              "      fill: #174EA6;\n",
              "    }\n",
              "\n",
              "    .colab-df-buttons div {\n",
              "      margin-bottom: 4px;\n",
              "    }\n",
              "\n",
              "    [theme=dark] .colab-df-convert {\n",
              "      background-color: #3B4455;\n",
              "      fill: #D2E3FC;\n",
              "    }\n",
              "\n",
              "    [theme=dark] .colab-df-convert:hover {\n",
              "      background-color: #434B5C;\n",
              "      box-shadow: 0px 1px 3px 1px rgba(0, 0, 0, 0.15);\n",
              "      filter: drop-shadow(0px 1px 2px rgba(0, 0, 0, 0.3));\n",
              "      fill: #FFFFFF;\n",
              "    }\n",
              "  </style>\n",
              "\n",
              "    <script>\n",
              "      const buttonEl =\n",
              "        document.querySelector('#df-91c8af9a-f492-415d-8e05-cd290dbe349d button.colab-df-convert');\n",
              "      buttonEl.style.display =\n",
              "        google.colab.kernel.accessAllowed ? 'block' : 'none';\n",
              "\n",
              "      async function convertToInteractive(key) {\n",
              "        const element = document.querySelector('#df-91c8af9a-f492-415d-8e05-cd290dbe349d');\n",
              "        const dataTable =\n",
              "          await google.colab.kernel.invokeFunction('convertToInteractive',\n",
              "                                                    [key], {});\n",
              "        if (!dataTable) return;\n",
              "\n",
              "        const docLinkHtml = 'Like what you see? Visit the ' +\n",
              "          '<a target=\"_blank\" href=https://colab.research.google.com/notebooks/data_table.ipynb>data table notebook</a>'\n",
              "          + ' to learn more about interactive tables.';\n",
              "        element.innerHTML = '';\n",
              "        dataTable['output_type'] = 'display_data';\n",
              "        await google.colab.output.renderOutput(dataTable, element);\n",
              "        const docLink = document.createElement('div');\n",
              "        docLink.innerHTML = docLinkHtml;\n",
              "        element.appendChild(docLink);\n",
              "      }\n",
              "    </script>\n",
              "  </div>\n",
              "\n",
              "\n",
              "<div id=\"df-342d2026-5f82-4688-b61e-e06ce4d9b474\">\n",
              "  <button class=\"colab-df-quickchart\" onclick=\"quickchart('df-342d2026-5f82-4688-b61e-e06ce4d9b474')\"\n",
              "            title=\"Suggest charts\"\n",
              "            style=\"display:none;\">\n",
              "\n",
              "<svg xmlns=\"http://www.w3.org/2000/svg\" height=\"24px\"viewBox=\"0 0 24 24\"\n",
              "     width=\"24px\">\n",
              "    <g>\n",
              "        <path d=\"M19 3H5c-1.1 0-2 .9-2 2v14c0 1.1.9 2 2 2h14c1.1 0 2-.9 2-2V5c0-1.1-.9-2-2-2zM9 17H7v-7h2v7zm4 0h-2V7h2v10zm4 0h-2v-4h2v4z\"/>\n",
              "    </g>\n",
              "</svg>\n",
              "  </button>\n",
              "\n",
              "<style>\n",
              "  .colab-df-quickchart {\n",
              "      --bg-color: #E8F0FE;\n",
              "      --fill-color: #1967D2;\n",
              "      --hover-bg-color: #E2EBFA;\n",
              "      --hover-fill-color: #174EA6;\n",
              "      --disabled-fill-color: #AAA;\n",
              "      --disabled-bg-color: #DDD;\n",
              "  }\n",
              "\n",
              "  [theme=dark] .colab-df-quickchart {\n",
              "      --bg-color: #3B4455;\n",
              "      --fill-color: #D2E3FC;\n",
              "      --hover-bg-color: #434B5C;\n",
              "      --hover-fill-color: #FFFFFF;\n",
              "      --disabled-bg-color: #3B4455;\n",
              "      --disabled-fill-color: #666;\n",
              "  }\n",
              "\n",
              "  .colab-df-quickchart {\n",
              "    background-color: var(--bg-color);\n",
              "    border: none;\n",
              "    border-radius: 50%;\n",
              "    cursor: pointer;\n",
              "    display: none;\n",
              "    fill: var(--fill-color);\n",
              "    height: 32px;\n",
              "    padding: 0;\n",
              "    width: 32px;\n",
              "  }\n",
              "\n",
              "  .colab-df-quickchart:hover {\n",
              "    background-color: var(--hover-bg-color);\n",
              "    box-shadow: 0 1px 2px rgba(60, 64, 67, 0.3), 0 1px 3px 1px rgba(60, 64, 67, 0.15);\n",
              "    fill: var(--button-hover-fill-color);\n",
              "  }\n",
              "\n",
              "  .colab-df-quickchart-complete:disabled,\n",
              "  .colab-df-quickchart-complete:disabled:hover {\n",
              "    background-color: var(--disabled-bg-color);\n",
              "    fill: var(--disabled-fill-color);\n",
              "    box-shadow: none;\n",
              "  }\n",
              "\n",
              "  .colab-df-spinner {\n",
              "    border: 2px solid var(--fill-color);\n",
              "    border-color: transparent;\n",
              "    border-bottom-color: var(--fill-color);\n",
              "    animation:\n",
              "      spin 1s steps(1) infinite;\n",
              "  }\n",
              "\n",
              "  @keyframes spin {\n",
              "    0% {\n",
              "      border-color: transparent;\n",
              "      border-bottom-color: var(--fill-color);\n",
              "      border-left-color: var(--fill-color);\n",
              "    }\n",
              "    20% {\n",
              "      border-color: transparent;\n",
              "      border-left-color: var(--fill-color);\n",
              "      border-top-color: var(--fill-color);\n",
              "    }\n",
              "    30% {\n",
              "      border-color: transparent;\n",
              "      border-left-color: var(--fill-color);\n",
              "      border-top-color: var(--fill-color);\n",
              "      border-right-color: var(--fill-color);\n",
              "    }\n",
              "    40% {\n",
              "      border-color: transparent;\n",
              "      border-right-color: var(--fill-color);\n",
              "      border-top-color: var(--fill-color);\n",
              "    }\n",
              "    60% {\n",
              "      border-color: transparent;\n",
              "      border-right-color: var(--fill-color);\n",
              "    }\n",
              "    80% {\n",
              "      border-color: transparent;\n",
              "      border-right-color: var(--fill-color);\n",
              "      border-bottom-color: var(--fill-color);\n",
              "    }\n",
              "    90% {\n",
              "      border-color: transparent;\n",
              "      border-bottom-color: var(--fill-color);\n",
              "    }\n",
              "  }\n",
              "</style>\n",
              "\n",
              "  <script>\n",
              "    async function quickchart(key) {\n",
              "      const quickchartButtonEl =\n",
              "        document.querySelector('#' + key + ' button');\n",
              "      quickchartButtonEl.disabled = true;  // To prevent multiple clicks.\n",
              "      quickchartButtonEl.classList.add('colab-df-spinner');\n",
              "      try {\n",
              "        const charts = await google.colab.kernel.invokeFunction(\n",
              "            'suggestCharts', [key], {});\n",
              "      } catch (error) {\n",
              "        console.error('Error during call to suggestCharts:', error);\n",
              "      }\n",
              "      quickchartButtonEl.classList.remove('colab-df-spinner');\n",
              "      quickchartButtonEl.classList.add('colab-df-quickchart-complete');\n",
              "    }\n",
              "    (() => {\n",
              "      let quickchartButtonEl =\n",
              "        document.querySelector('#df-342d2026-5f82-4688-b61e-e06ce4d9b474 button');\n",
              "      quickchartButtonEl.style.display =\n",
              "        google.colab.kernel.accessAllowed ? 'block' : 'none';\n",
              "    })();\n",
              "  </script>\n",
              "</div>\n",
              "\n",
              "    </div>\n",
              "  </div>\n"
            ],
            "application/vnd.google.colaboratory.intrinsic+json": {
              "type": "dataframe",
              "variable_name": "my_df",
              "summary": "{\n  \"name\": \"my_df\",\n  \"rows\": 5000,\n  \"fields\": [\n    {\n      \"column\": \"review\",\n      \"properties\": {\n        \"dtype\": \"string\",\n        \"num_unique_values\": 5000,\n        \"samples\": [\n          \"This toy is so amazing - my friends had raved about it and so I decided to get one.  Our 3 month old doesn't have much interest in toys yet but she loves this.  It can entertain her a long time!  It's now my go-to baby shower add on gift.\",\n          \"this was a great price for what i got, if you go into other stores you will see robs similar to this and it will be close to 30.00$. my sister in law loves this for her little boy!\",\n          \"I think the description is very accurate, It's great, looks like high quality, and durable. i love that it teaches you on one side the name of the animal with a picture and on the other side how to spell it in korean.\"\n        ],\n        \"semantic_type\": \"\",\n        \"description\": \"\"\n      }\n    },\n    {\n      \"column\": \"rating\",\n      \"properties\": {\n        \"dtype\": \"number\",\n        \"std\": 0,\n        \"min\": 0,\n        \"max\": 1,\n        \"num_unique_values\": 2,\n        \"samples\": [\n          1,\n          0\n        ],\n        \"semantic_type\": \"\",\n        \"description\": \"\"\n      }\n    }\n  ]\n}"
            }
          },
          "metadata": {},
          "execution_count": 17
        }
      ]
    },
    {
      "cell_type": "code",
      "metadata": {
        "id": "lcJX3iG29jxs",
        "colab": {
          "base_uri": "https://localhost:8080/"
        },
        "outputId": "2352a89d-71f4-46fc-8460-584540c18339"
      },
      "source": [
        "X = my_df.review\n",
        "Y = my_df.rating\n",
        "\n",
        "X.shape"
      ],
      "execution_count": 18,
      "outputs": [
        {
          "output_type": "execute_result",
          "data": {
            "text/plain": [
              "(5000,)"
            ]
          },
          "metadata": {},
          "execution_count": 18
        }
      ]
    },
    {
      "cell_type": "code",
      "metadata": {
        "id": "AJCW0hqMCmcw",
        "colab": {
          "base_uri": "https://localhost:8080/"
        },
        "outputId": "3b31121c-1c49-440f-a23e-ccab8933c2de"
      },
      "source": [
        "sum(Y) / len(Y)   # Están algo desbalanceadas las clases..."
      ],
      "execution_count": 19,
      "outputs": [
        {
          "output_type": "execute_result",
          "data": {
            "text/plain": [
              "0.768"
            ]
          },
          "metadata": {},
          "execution_count": 19
        }
      ]
    },
    {
      "cell_type": "code",
      "metadata": {
        "id": "-6h61azA-KgV"
      },
      "source": [
        "# Hacemos una limpieza mínima:\n",
        "def clean_doc(doc):\n",
        "  # split into tokens by white space\n",
        "  tokens = doc.split()\n",
        "  # prepare regex for char filtering\n",
        "  re_punc = re.compile('[%s]' % re.escape(string.punctuation))\n",
        "  # remove punctuation from each word\n",
        "  tokens = [re_punc.sub('', w) for w in tokens]\n",
        "  # remove remaining tokens that are not alphabetic\n",
        "  tokens = [word.lower() for word in tokens if word.isalpha()]\n",
        "  # filter out stop words\n",
        "  tokens = [w for w in tokens if not w in mystopwords]\n",
        "  # filter out short tokens\n",
        "  tokens = [word for word in tokens if len(word) > 1]\n",
        "  return tokens"
      ],
      "execution_count": 20,
      "outputs": []
    },
    {
      "cell_type": "code",
      "metadata": {
        "id": "emzufPuTBA2Y"
      },
      "source": [
        "Xclean = [clean_doc(s) for s in X]"
      ],
      "execution_count": 21,
      "outputs": []
    },
    {
      "cell_type": "code",
      "metadata": {
        "id": "H15vKYdBBkd1",
        "colab": {
          "base_uri": "https://localhost:8080/"
        },
        "outputId": "51c10575-e6d7-48dd-894e-0fb1b27c28db"
      },
      "source": [
        "for k in range(3):\n",
        "  print(Xclean[k])"
      ],
      "execution_count": 22,
      "outputs": [
        {
          "output_type": "stream",
          "name": "stdout",
          "text": [
            "['think', 'expensive', 'drugstore', 'cost', 'good', 'chose', 'want']\n",
            "['saw', 'amazon', 'put', 'wish', 'list', 'would', 'able', 'find', 'knew', 'would', 'next', 'baby', 'gift', 'would', 'purchase', 'opportunity', 'recently', 'came', 'soon', 'read', 'shower', 'invitstion', 'placed', 'order', 'looks', 'comfortable', 'love', 'second', 'cover', 'allows', 'grow', 'child', 'many', 'items', 'designed', 'baby', 'used', 'short', 'time', 'able', 'used', 'much', 'longer', 'given', 'mothertobe', 'thrilled', 'receive', 'year', 'old', 'try', 'already', 'making', 'plans', 'new', 'baby', 'share', 'watch', 'tv', 'strsp', 'bottom', 'makes', 'moving', 'room', 'room', 'easy', 'cover', 'zips', 'change', 'one', 'wash', 'well', 'thought', 'item']\n",
            "['really', 'like', 'valances', 'cute', 'characters', 'highly', 'recommend', 'downfall', 'iron', 'come', 'dryer', 'worth']\n"
          ]
        }
      ]
    },
    {
      "cell_type": "markdown",
      "metadata": {
        "id": "xoD1rSYcDlFH"
      },
      "source": [
        "###**Train-Validation-Test**"
      ]
    },
    {
      "cell_type": "code",
      "metadata": {
        "id": "5xsYb82cDqPN",
        "colab": {
          "base_uri": "https://localhost:8080/"
        },
        "outputId": "5a8b5ac2-bcc3-49b2-91a5-dd7768b73360"
      },
      "source": [
        "semilla = 17\n",
        "\n",
        "x_train, x_validation_and_test, y_train, y_validation_and_test = train_test_split(Xclean, Y, train_size=.80,  random_state=semilla)\n",
        "x_validation, x_test, y_validation, y_test = train_test_split(x_validation_and_test, y_validation_and_test, test_size=.50, random_state=semilla)\n",
        "\n",
        "print(len(x_train))\n",
        "print(len(y_train))\n",
        "print(len(x_validation))\n",
        "print(len(y_validation))\n",
        "print(len(x_test))\n",
        "print(len(y_test))"
      ],
      "execution_count": 23,
      "outputs": [
        {
          "output_type": "stream",
          "name": "stdout",
          "text": [
            "4000\n",
            "4000\n",
            "500\n",
            "500\n",
            "500\n",
            "500\n"
          ]
        }
      ]
    },
    {
      "cell_type": "code",
      "metadata": {
        "id": "A45M35CnKa9w",
        "colab": {
          "base_uri": "https://localhost:8080/"
        },
        "outputId": "e2d5e45c-eb7d-476e-b702-0360f1c01f9d"
      },
      "source": [
        "for k in range(3):\n",
        "  print(x_train[k])"
      ],
      "execution_count": 24,
      "outputs": [
        {
          "output_type": "stream",
          "name": "stdout",
          "text": [
            "['stroller', 'year', 'half', 'previously', 'chicco', 'cortina', 'stroller', 'loved', 'also', 'great', 'talls', 'im', 'feet', 'heavy', 'became', 'impractical', 'love', 'heavenly', 'stroller', 'umbrellatype', 'stroller', 'tall', 'enough', 'folds', 'easily', 'light', 'live', 'new', 'york', 'city', 'use', 'stroller', 'daughter', 'constantly', 'since', 'dont', 'car', 'daughter', 'tall', 'seems', 'perfectly', 'comfortable', 'itbut', 'weeks', 'ago', 'returning', 'home', 'park', 'one', 'handles', 'snapped', 'joint', 'unfixable', 'bummed', 'wasnt', 'buy', 'new', 'stroller', 'pretty', 'unusable', 'one', 'handle', 'one', 'feeling', 'really', 'wobbly', 'emailed', 'company', 'found', 'sent', 'two', 'replacement', 'handles', 'rolling', 'againi', 'think', 'handles', 'wore', 'use', 'stroller', 'multiple', 'times', 'day', 'long', 'short', 'distances', 'stairs', 'maneuvering', 'around', 'city', 'trains', 'shopping', 'etc', 'stroller', 'gets', 'heavy', 'wear', 'tear', 'everything', 'else', 'held', 'wheels', 'brakes', 'little', 'pouch', 'no', 'problems', 'must', 'say', 'im', 'impressed', 'customer', 'service', 'wasnt', 'immediate', 'great', 'highly', 'recommend', 'stroller']\n",
            "['not', 'even', 'sure', 'safe', 'kids', 'sleep', 'like', 'putting', 'snow', 'suite', 'putting', 'bed', 'horrible', 'time', 'son', 'getting', 'sleep', 'one', 'blurry', 'eyed', 'morning', 'decided', 'order', 'high', 'hopes', 'would', 'help', 'didnt', 'first', 'able', 'pull', 'legs', 'onto', 'body', 'gets', 'stuck', 'like', 'egg', 'position', 'wakes', 'secondly', 'put', 'onesie', 'keep', 'room', 'cool', 'still', 'covered', 'sweat', 'wakes', 'way', 'thick', 'really', 'hoping', 'would', 'help', 'us', 'sleep', 'didnt']\n",
            "['tried', 'ring', 'thats', 'loose', 'dont', 'money', 'right', 'get', 'sized', 'snuggies', 'temporary', 'not', 'pinch', 'skin', 'finger', 'fell', 'lost', 'wouldnt', 'recommend']\n"
          ]
        }
      ]
    },
    {
      "cell_type": "markdown",
      "metadata": {
        "id": "TJ4zQIwhIClF"
      },
      "source": [
        "###**Construimos ahora nuestro vocabulario usando solamente los datos de entrenamiento:**"
      ]
    },
    {
      "cell_type": "code",
      "metadata": {
        "id": "KvXZKduYIKZ1"
      },
      "source": [
        "mivocabulario = Counter()    # de la forma {(key:value)} --> {(word,freq)}\n",
        "\n",
        "for k in range(len(x_train)):\n",
        "  mivocabulario.update(x_train[k])"
      ],
      "execution_count": 25,
      "outputs": []
    },
    {
      "cell_type": "code",
      "metadata": {
        "id": "G5pb0-FEPIf0",
        "colab": {
          "base_uri": "https://localhost:8080/"
        },
        "outputId": "d3b3d58d-8182-4cd5-b5b2-60ca4ffa59d8"
      },
      "source": [
        "print(len(mivocabulario))\n",
        "print(mivocabulario.most_common(10))"
      ],
      "execution_count": 26,
      "outputs": [
        {
          "output_type": "stream",
          "name": "stdout",
          "text": [
            "13594\n",
            "[('not', 2160), ('one', 1667), ('baby', 1650), ('great', 1275), ('would', 1207), ('use', 1176), ('like', 1121), ('little', 944), ('seat', 941), ('easy', 924)]\n"
          ]
        }
      ]
    },
    {
      "cell_type": "code",
      "metadata": {
        "id": "nK-JoAH0PbAm",
        "colab": {
          "base_uri": "https://localhost:8080/",
          "height": 430
        },
        "outputId": "1283f41e-709d-48cc-e0d4-b8a0ac584f85"
      },
      "source": [
        "# Veamos la gráfica de palabras nuestro diccionario en orden de mayor frecuencia:\n",
        "\n",
        "plt.plot(list(np.arange(len(mivocabulario))), list(mivocabulario.values()), color='blue')\n",
        "plt.show()"
      ],
      "execution_count": 27,
      "outputs": [
        {
          "output_type": "display_data",
          "data": {
            "text/plain": [
              "<Figure size 640x480 with 1 Axes>"
            ],
            "image/png": "[encoded data removed]"
          },
          "metadata": {}
        }
      ]
    },
    {
      "cell_type": "markdown",
      "metadata": {
        "id": "5zh6yVo3QJAL"
      },
      "source": [
        "###**Descartemos palabras cuya frecuencia en el conjunto de entrenamiento es muy pequeña:**"
      ]
    },
    {
      "cell_type": "code",
      "metadata": {
        "id": "o0JTo5IEQTJD",
        "colab": {
          "base_uri": "https://localhost:8080/"
        },
        "outputId": "dec499fe-543b-4958-9682-944889ee1364"
      },
      "source": [
        "min_freq = 30\n",
        "tmp = [{k:c} for k,c in mivocabulario.items() if c >= min_freq]\n",
        "\n",
        "mivocabulario2 = {}\n",
        "for i in range(len(tmp)):\n",
        "  mivocabulario2.update(tmp[i])\n",
        "\n",
        "print(len(mivocabulario2))  # reducimos el tamaño del vocabulario....\n",
        "print(1-len(mivocabulario2)/len(mivocabulario))   # porcentaje de reducción..."
      ],
      "execution_count": 28,
      "outputs": [
        {
          "output_type": "stream",
          "name": "stdout",
          "text": [
            "962\n",
            "0.9292334853611888\n"
          ]
        }
      ]
    },
    {
      "cell_type": "code",
      "metadata": {
        "id": "pXcU7Js7Qx0N",
        "colab": {
          "base_uri": "https://localhost:8080/",
          "height": 430
        },
        "outputId": "a3722860-ee6b-4544-ba3e-11541ce656df"
      },
      "source": [
        "plt.plot(list(np.arange(len(mivocabulario2))), list(mivocabulario2.values()), color='blue')\n",
        "plt.show()"
      ],
      "execution_count": 29,
      "outputs": [
        {
          "output_type": "display_data",
          "data": {
            "text/plain": [
              "<Figure size 640x480 with 1 Axes>"
            ],
            "image/png": "[encoded data removed]"
          },
          "metadata": {}
        }
      ]
    },
    {
      "cell_type": "code",
      "metadata": {
        "id": "lfPqb8HFjoJp"
      },
      "source": [
        "total_words = len(mivocabulario2)"
      ],
      "execution_count": 30,
      "outputs": []
    },
    {
      "cell_type": "markdown",
      "metadata": {
        "id": "CDA2xvl_StVP"
      },
      "source": [
        "###**Filtremos los conjuntos Train, Validation y Test con respecto al nuestro vocabulario de palabras:**"
      ]
    },
    {
      "cell_type": "code",
      "metadata": {
        "id": "d1np99AiTQQT"
      },
      "source": [
        "train_x = []\n",
        "\n",
        "for ss in x_train:\n",
        "  train_x.append([w for w in ss if w in mivocabulario2])"
      ],
      "execution_count": 31,
      "outputs": []
    },
    {
      "cell_type": "code",
      "metadata": {
        "id": "NTfkWb_DUAsE",
        "colab": {
          "base_uri": "https://localhost:8080/"
        },
        "outputId": "96768e84-7589-4b67-f158-08ac331de0fc"
      },
      "source": [
        "for k in range(3):\n",
        "  print(x_train[k])\n",
        "  print(train_x[k])"
      ],
      "execution_count": 32,
      "outputs": [
        {
          "output_type": "stream",
          "name": "stdout",
          "text": [
            "['stroller', 'year', 'half', 'previously', 'chicco', 'cortina', 'stroller', 'loved', 'also', 'great', 'talls', 'im', 'feet', 'heavy', 'became', 'impractical', 'love', 'heavenly', 'stroller', 'umbrellatype', 'stroller', 'tall', 'enough', 'folds', 'easily', 'light', 'live', 'new', 'york', 'city', 'use', 'stroller', 'daughter', 'constantly', 'since', 'dont', 'car', 'daughter', 'tall', 'seems', 'perfectly', 'comfortable', 'itbut', 'weeks', 'ago', 'returning', 'home', 'park', 'one', 'handles', 'snapped', 'joint', 'unfixable', 'bummed', 'wasnt', 'buy', 'new', 'stroller', 'pretty', 'unusable', 'one', 'handle', 'one', 'feeling', 'really', 'wobbly', 'emailed', 'company', 'found', 'sent', 'two', 'replacement', 'handles', 'rolling', 'againi', 'think', 'handles', 'wore', 'use', 'stroller', 'multiple', 'times', 'day', 'long', 'short', 'distances', 'stairs', 'maneuvering', 'around', 'city', 'trains', 'shopping', 'etc', 'stroller', 'gets', 'heavy', 'wear', 'tear', 'everything', 'else', 'held', 'wheels', 'brakes', 'little', 'pouch', 'no', 'problems', 'must', 'say', 'im', 'impressed', 'customer', 'service', 'wasnt', 'immediate', 'great', 'highly', 'recommend', 'stroller']\n",
            "['stroller', 'year', 'half', 'chicco', 'stroller', 'loved', 'also', 'great', 'im', 'feet', 'heavy', 'became', 'love', 'stroller', 'stroller', 'tall', 'enough', 'folds', 'easily', 'light', 'live', 'new', 'use', 'stroller', 'daughter', 'constantly', 'since', 'dont', 'car', 'daughter', 'tall', 'seems', 'perfectly', 'comfortable', 'weeks', 'ago', 'returning', 'home', 'one', 'handles', 'wasnt', 'buy', 'new', 'stroller', 'pretty', 'one', 'handle', 'one', 'really', 'company', 'found', 'sent', 'two', 'replacement', 'handles', 'think', 'handles', 'use', 'stroller', 'multiple', 'times', 'day', 'long', 'short', 'around', 'shopping', 'etc', 'stroller', 'gets', 'heavy', 'wear', 'everything', 'else', 'held', 'wheels', 'little', 'no', 'problems', 'must', 'say', 'im', 'impressed', 'customer', 'service', 'wasnt', 'great', 'highly', 'recommend', 'stroller']\n",
            "['not', 'even', 'sure', 'safe', 'kids', 'sleep', 'like', 'putting', 'snow', 'suite', 'putting', 'bed', 'horrible', 'time', 'son', 'getting', 'sleep', 'one', 'blurry', 'eyed', 'morning', 'decided', 'order', 'high', 'hopes', 'would', 'help', 'didnt', 'first', 'able', 'pull', 'legs', 'onto', 'body', 'gets', 'stuck', 'like', 'egg', 'position', 'wakes', 'secondly', 'put', 'onesie', 'keep', 'room', 'cool', 'still', 'covered', 'sweat', 'wakes', 'way', 'thick', 'really', 'hoping', 'would', 'help', 'us', 'sleep', 'didnt']\n",
            "['not', 'even', 'sure', 'safe', 'kids', 'sleep', 'like', 'putting', 'putting', 'bed', 'time', 'son', 'getting', 'sleep', 'one', 'decided', 'order', 'high', 'would', 'help', 'didnt', 'first', 'able', 'pull', 'legs', 'onto', 'body', 'gets', 'stuck', 'like', 'position', 'put', 'keep', 'room', 'cool', 'still', 'way', 'thick', 'really', 'hoping', 'would', 'help', 'us', 'sleep', 'didnt']\n",
            "['tried', 'ring', 'thats', 'loose', 'dont', 'money', 'right', 'get', 'sized', 'snuggies', 'temporary', 'not', 'pinch', 'skin', 'finger', 'fell', 'lost', 'wouldnt', 'recommend']\n",
            "['tried', 'ring', 'thats', 'loose', 'dont', 'money', 'right', 'get', 'sized', 'not', 'skin', 'fell', 'lost', 'wouldnt', 'recommend']\n"
          ]
        }
      ]
    },
    {
      "cell_type": "code",
      "metadata": {
        "id": "T_TruTEqW1p1"
      },
      "source": [
        "validation_x = []\n",
        "\n",
        "for ss in x_validation:\n",
        "  validation_x.append([w for w in ss if w in mivocabulario2])"
      ],
      "execution_count": 33,
      "outputs": []
    },
    {
      "cell_type": "code",
      "metadata": {
        "id": "mBuOp4r-XpqV",
        "colab": {
          "base_uri": "https://localhost:8080/"
        },
        "outputId": "152b3075-65ba-44ee-f6f1-d0b615cd894a"
      },
      "source": [
        "for k in range(3):\n",
        "  print(x_validation[k])\n",
        "  print(validation_x[k])"
      ],
      "execution_count": 34,
      "outputs": [
        {
          "output_type": "stream",
          "name": "stdout",
          "text": [
            "['adorable', 'way', 'big', 'layette', 'others', 'said', 'returned', 'cannot', 'tell', 'age', 'actually', 'fit']\n",
            "['adorable', 'way', 'big', 'others', 'said', 'returned', 'cannot', 'tell', 'age', 'actually', 'fit']\n",
            "['absolutely', 'love', 'crib', 'set', 'spent', 'forever', 'researching', 'reviewing', 'peoples', 'opinions', 'different', 'kind', 'crib', 'sets', 'bit', 'hesitant', 'first', 'soon', 'got', 'mail', 'opened', 'fell', 'love', 'great', 'price', 'piece', 'set', 'completely', 'well', 'worth', 'moneyupdate', 'ended', 'not', 'using', 'long', 'looks', 'ended', 'wash', 'blanket', 'looks', 'real', 'used', 'pregnant', 'wont', 'wasting', 'money', 'crib', 'bedding', 'set', 'babies', 'dont', 'need', 'pillows', 'comforters', 'thing', 'uses', 'sheet', 'cute', 'first', 'get', 'magic', 'slowly', 'fades', 'away']\n",
            "['absolutely', 'love', 'crib', 'set', 'spent', 'different', 'kind', 'crib', 'sets', 'bit', 'first', 'soon', 'got', 'opened', 'fell', 'love', 'great', 'price', 'piece', 'set', 'completely', 'well', 'worth', 'ended', 'not', 'using', 'long', 'looks', 'ended', 'wash', 'blanket', 'looks', 'real', 'used', 'pregnant', 'wont', 'money', 'crib', 'bedding', 'set', 'babies', 'dont', 'need', 'thing', 'uses', 'sheet', 'cute', 'first', 'get', 'away']\n",
            "['nipple', 'seems', 'appropriate', 'ages', 'suggested', 'mos', 'son', 'no', 'trouble', 'latching', 'onto', 'previously', 'used', 'avent', 'bottles', 'wasnt', 'nursing', 'learned', 'bpa', 'switched', 'anti', 'colic', 'valve', 'interesting', 'must', 'working', 'little', 'one', 'doesnt', 'problem', 'gas', 'using', 'bottle']\n",
            "['nipple', 'seems', 'son', 'no', 'trouble', 'onto', 'used', 'avent', 'bottles', 'wasnt', 'nursing', 'bpa', 'must', 'working', 'little', 'one', 'doesnt', 'problem', 'gas', 'using', 'bottle']\n"
          ]
        }
      ]
    },
    {
      "cell_type": "code",
      "metadata": {
        "id": "x6PgJAzkXBcN"
      },
      "source": [
        "test_x = []\n",
        "\n",
        "for ss in x_test:\n",
        "  test_x.append([w for w in ss if w in mivocabulario2])"
      ],
      "execution_count": 35,
      "outputs": []
    },
    {
      "cell_type": "code",
      "metadata": {
        "id": "peeZUPUyXHnV",
        "colab": {
          "base_uri": "https://localhost:8080/"
        },
        "outputId": "a994016f-92ce-4ed2-ffb9-a822ab5d71cf"
      },
      "source": [
        "for k in range(3):\n",
        "  print(x_test[k])\n",
        "  print(test_x[k])"
      ],
      "execution_count": 36,
      "outputs": [
        {
          "output_type": "stream",
          "name": "stdout",
          "text": [
            "['bought', 'son', 'last', 'december', 'great', 'car', 'seat', 'easy', 'use', 'install', 'love', 'point', 'harness', 'although', 'son', 'soon', 'outgrow', 'need', 'seat', 'comfy', 'never', 'complains', 'much', 'better', 'padded', 'comfortable', 'graco', 'booster', 'seats', 'opinion', 'think', 'probably', 'best', 'booster', 'seat', 'market', 'safety', 'wise', 'side', 'impact', 'protection', 'seems', 'excellent', 'large', 'sides', 'support', 'sons', 'head', 'well', 'naps', 'car', 'wish', 'would', 'fold', 'easier', 'transport', 'trunk', 'not', 'use', 'need', 'take', 'plane']\n",
            "['bought', 'son', 'last', 'great', 'car', 'seat', 'easy', 'use', 'install', 'love', 'point', 'harness', 'although', 'son', 'soon', 'need', 'seat', 'comfy', 'never', 'much', 'better', 'padded', 'comfortable', 'graco', 'booster', 'seats', 'think', 'probably', 'best', 'booster', 'seat', 'safety', 'side', 'seems', 'excellent', 'large', 'sides', 'support', 'sons', 'head', 'well', 'car', 'wish', 'would', 'fold', 'easier', 'not', 'use', 'need', 'take']\n",
            "['colorful', 'looks', 'great', 'makes', 'noise', 'four', 'different', 'buttons', 'push', 'doesnt', 'keep', 'old', 'grandsons', 'interest', 'ten', 'seconds', 'hes', 'not', 'interested', 'paid', 'lot', 'less', 'wouldnt', 'pay']\n",
            "['looks', 'great', 'makes', 'noise', 'four', 'different', 'push', 'doesnt', 'keep', 'old', 'seconds', 'hes', 'not', 'paid', 'lot', 'less', 'wouldnt', 'pay']\n",
            "['looking', 'forward', 'inexpensive', 'allinone', 'cloth', 'diaper', 'get', 'pay', 'velcro', 'doesnt', 'stay', 'closed', 'wash', 'ended', 'trying', 'use', 'binder', 'clips', 'keep', 'closed', 'didnt', 'work', 'either', 'wash', 'one', 'diapers', 'velcro', 'stuck', 'anothers', 'ripped', 'right', 'diaper', 'disappointing', 'cant', 'even', 'feel', 'good', 'trying', 'resell', 'giving', 'away', 'waste', 'money']\n",
            "['looking', 'forward', 'cloth', 'diaper', 'get', 'pay', 'velcro', 'doesnt', 'stay', 'closed', 'wash', 'ended', 'trying', 'use', 'keep', 'closed', 'didnt', 'work', 'either', 'wash', 'one', 'diapers', 'velcro', 'stuck', 'right', 'diaper', 'cant', 'even', 'feel', 'good', 'trying', 'giving', 'away', 'waste', 'money']\n"
          ]
        }
      ]
    },
    {
      "cell_type": "code",
      "metadata": {
        "id": "tjLezI69yUkH",
        "colab": {
          "base_uri": "https://localhost:8080/"
        },
        "outputId": "01d2d189-164e-41e5-a07d-6b3307f13667"
      },
      "source": [
        "len(test_x)"
      ],
      "execution_count": 37,
      "outputs": [
        {
          "output_type": "execute_result",
          "data": {
            "text/plain": [
              "500"
            ]
          },
          "metadata": {},
          "execution_count": 37
        }
      ]
    },
    {
      "cell_type": "markdown",
      "metadata": {
        "id": "Yt8kvSyfj4HJ"
      },
      "source": [
        "###**matrices Tf-idf**\n",
        "\n",
        "### Para obtener las matrices sparse debe estar de nuevo cada comentario/documento en un solo string:\n",
        "\n"
      ]
    },
    {
      "cell_type": "code",
      "metadata": {
        "id": "vOHyZNQGa510"
      },
      "source": [
        "train_x_docs = []\n",
        "\n",
        "for k in range(len(train_x)):\n",
        "  train_x_docs.append(' '.join(train_x[k]))"
      ],
      "execution_count": 38,
      "outputs": []
    },
    {
      "cell_type": "code",
      "metadata": {
        "id": "Bi1BR_LobfGH",
        "colab": {
          "base_uri": "https://localhost:8080/"
        },
        "outputId": "2417a1d7-fc6a-498e-d916-f237ec7db491"
      },
      "source": [
        "for k in range(3):\n",
        "  print(train_x_docs[k])"
      ],
      "execution_count": 39,
      "outputs": [
        {
          "output_type": "stream",
          "name": "stdout",
          "text": [
            "stroller year half chicco stroller loved also great im feet heavy became love stroller stroller tall enough folds easily light live new use stroller daughter constantly since dont car daughter tall seems perfectly comfortable weeks ago returning home one handles wasnt buy new stroller pretty one handle one really company found sent two replacement handles think handles use stroller multiple times day long short around shopping etc stroller gets heavy wear everything else held wheels little no problems must say im impressed customer service wasnt great highly recommend stroller\n",
            "not even sure safe kids sleep like putting putting bed time son getting sleep one decided order high would help didnt first able pull legs onto body gets stuck like position put keep room cool still way thick really hoping would help us sleep didnt\n",
            "tried ring thats loose dont money right get sized not skin fell lost wouldnt recommend\n"
          ]
        }
      ]
    },
    {
      "cell_type": "code",
      "metadata": {
        "id": "glIcIsFkb_YN"
      },
      "source": [
        "validation_x_docs = []\n",
        "\n",
        "for k in range(len(validation_x)):\n",
        "  validation_x_docs.append(' '.join(validation_x[k]))"
      ],
      "execution_count": 40,
      "outputs": []
    },
    {
      "cell_type": "code",
      "metadata": {
        "id": "Hfy03pVab_6b"
      },
      "source": [
        "test_x_docs = []\n",
        "\n",
        "for k in range(len(test_x)):\n",
        "  test_x_docs.append(' '.join(test_x[k]))"
      ],
      "execution_count": 41,
      "outputs": []
    },
    {
      "cell_type": "code",
      "metadata": {
        "id": "2_mR1K5ZyhVi",
        "colab": {
          "base_uri": "https://localhost:8080/"
        },
        "outputId": "ec28fc28-708f-4869-9e25-013edff6c296"
      },
      "source": [
        "len(test_x_docs)"
      ],
      "execution_count": 42,
      "outputs": [
        {
          "output_type": "execute_result",
          "data": {
            "text/plain": [
              "500"
            ]
          },
          "metadata": {},
          "execution_count": 42
        }
      ]
    },
    {
      "cell_type": "markdown",
      "metadata": {
        "id": "ywWrj3XrpuoG"
      },
      "source": [
        "###**TOKENIZER**\n",
        "\n",
        "Con Tf-Idf se hace la conversión de letras a números con la fórmula de de tf-idf y los agrupa de manera descendente por frecuencias.\n"
      ]
    },
    {
      "cell_type": "code",
      "metadata": {
        "id": "BcRvk3Y5pqFD"
      },
      "source": [
        "# Creamos el tokenizer\n",
        "tokenizer = Tokenizer(num_words = total_words)\n",
        "\n",
        "tokenizer.fit_on_texts(train_x_docs)\n",
        "\n",
        "train_sequences = tokenizer.texts_to_sequences(train_x_docs)\n",
        "\n",
        "validation_sequences = tokenizer.texts_to_sequences(validation_x_docs)\n",
        "\n",
        "test_sequences = tokenizer.texts_to_sequences(test_x_docs)"
      ],
      "execution_count": 43,
      "outputs": []
    },
    {
      "cell_type": "code",
      "metadata": {
        "id": "KTGC-ix8kFKe",
        "colab": {
          "base_uri": "https://localhost:8080/"
        },
        "outputId": "5cc03c27-7337-4486-b209-6f025f044e48"
      },
      "source": [
        "tokenizer.num_words  # tamaño del vocabulario"
      ],
      "execution_count": 44,
      "outputs": [
        {
          "output_type": "execute_result",
          "data": {
            "text/plain": [
              "962"
            ]
          },
          "metadata": {},
          "execution_count": 44
        }
      ]
    },
    {
      "cell_type": "code",
      "metadata": {
        "id": "fgmnOiupkwL6"
      },
      "source": [
        "#tokenizer.index_word   # tokens indexados por frecuencia, de manera descendente."
      ],
      "execution_count": 45,
      "outputs": []
    },
    {
      "cell_type": "code",
      "metadata": {
        "id": "SdAUblX6lW4m",
        "colab": {
          "base_uri": "https://localhost:8080/",
          "height": 35
        },
        "outputId": "cdd59b56-9197-47f2-ffbe-414daf9181b2"
      },
      "source": [
        "tokenizer.index_word[3]  # puedes obtener cualquier token en particular"
      ],
      "execution_count": 46,
      "outputs": [
        {
          "output_type": "execute_result",
          "data": {
            "text/plain": [
              "'baby'"
            ],
            "application/vnd.google.colaboratory.intrinsic+json": {
              "type": "string"
            }
          },
          "metadata": {},
          "execution_count": 46
        }
      ]
    },
    {
      "cell_type": "code",
      "metadata": {
        "id": "ZkXxOKLBlm4a",
        "colab": {
          "base_uri": "https://localhost:8080/"
        },
        "outputId": "53825f33-f076-4684-d059-68ff86a435fd"
      },
      "source": [
        "tokenizer.word_index['baby']   # y obtener el índice del token de esta manera."
      ],
      "execution_count": 47,
      "outputs": [
        {
          "output_type": "execute_result",
          "data": {
            "text/plain": [
              "3"
            ]
          },
          "metadata": {},
          "execution_count": 47
        }
      ]
    },
    {
      "cell_type": "code",
      "metadata": {
        "id": "UYYC6aJdqtqR",
        "colab": {
          "base_uri": "https://localhost:8080/"
        },
        "outputId": "410b7dd1-5c78-4f9f-87a2-6bae0dcd1506"
      },
      "source": [
        "print(\"The document and its encoding:\\n\",train_x_docs[0], '\\n', train_sequences[0])"
      ],
      "execution_count": 48,
      "outputs": [
        {
          "output_type": "stream",
          "name": "stdout",
          "text": [
            "The document and its encoding:\n",
            " stroller year half chicco stroller loved also great im feet heavy became love stroller stroller tall enough folds easily light live new use stroller daughter constantly since dont car daughter tall seems perfectly comfortable weeks ago returning home one handles wasnt buy new stroller pretty one handle one really company found sent two replacement handles think handles use stroller multiple times day long short around shopping etc stroller gets heavy wear everything else held wheels little no problems must say im impressed customer service wasnt great highly recommend stroller \n",
            " [30, 79, 368, 841, 30, 138, 15, 4, 39, 445, 300, 769, 11, 30, 30, 504, 44, 594, 75, 149, 561, 74, 6, 30, 28, 746, 51, 24, 35, 28, 504, 104, 206, 126, 170, 339, 809, 237, 2, 524, 210, 52, 74, 30, 95, 2, 327, 2, 16, 328, 127, 646, 47, 452, 524, 69, 524, 6, 30, 703, 174, 109, 88, 358, 45, 414, 346, 30, 176, 300, 397, 193, 430, 403, 472, 8, 20, 286, 272, 164, 39, 936, 446, 439, 210, 4, 158, 36, 30]\n"
          ]
        }
      ]
    },
    {
      "cell_type": "code",
      "metadata": {
        "id": "SoKoodE_sAxo",
        "colab": {
          "base_uri": "https://localhost:8080/"
        },
        "outputId": "777ca433-fd6e-4613-bf74-3d719ce50603"
      },
      "source": [
        "len(train_sequences)  # siguen siendo el mismo nuumero de renglones inicial de los de entrenamiento."
      ],
      "execution_count": 49,
      "outputs": [
        {
          "output_type": "execute_result",
          "data": {
            "text/plain": [
              "4000"
            ]
          },
          "metadata": {},
          "execution_count": 49
        }
      ]
    },
    {
      "cell_type": "code",
      "metadata": {
        "id": "62UE_viJqtln"
      },
      "source": [
        "# Add padding, \"post\" or \"pre\":\n",
        "# maxlen es la longitud máxima permitida de un enunciado. Puedes calcular el documento de mayor longitud y tomar ese,\n",
        "# o bien, tomar un aproximado... en este caso tomamos 40, más allá de esto, se trunca.\n",
        "\n",
        "padded_train = pad_sequences(train_sequences, maxlen = 40, padding = 'post', truncating = 'post')\n",
        "\n",
        "padded_validation = pad_sequences(validation_sequences, maxlen = 40, padding = 'post', truncating = 'post')\n",
        "\n",
        "padded_test = pad_sequences(test_sequences, maxlen = 40,  padding = 'post', truncating = 'post')"
      ],
      "execution_count": 50,
      "outputs": []
    },
    {
      "cell_type": "code",
      "metadata": {
        "id": "Ca8AXSfrsyF1",
        "colab": {
          "base_uri": "https://localhost:8080/"
        },
        "outputId": "d3fcf3e4-017a-44fd-c689-47c8e74a3937"
      },
      "source": [
        "for i,doc in enumerate(padded_train[:3]):\n",
        "     print(\"La codificación del documento\",i+1,\"es:\\n\",doc)"
      ],
      "execution_count": 51,
      "outputs": [
        {
          "output_type": "stream",
          "name": "stdout",
          "text": [
            "La codificación del documento 1 es:\n",
            " [ 30  79 368 841  30 138  15   4  39 445 300 769  11  30  30 504  44 594\n",
            "  75 149 561  74   6  30  28 746  51  24  35  28 504 104 206 126 170 339\n",
            " 809 237   2 524]\n",
            "La codificación del documento 2 es:\n",
            " [  1  27 103 195 119 122   7 347 347 144  18  22 116 122   2 257 294 157\n",
            "   5 258  49  31  96 245 371 514 747 176 492   7 387  26  70  54 883  32\n",
            "  50 547  16 704]\n",
            "La codificación del documento 3 es:\n",
            " [120 748 261 819  24 145  76  12 884   1 907 705 759 256  36   0   0   0\n",
            "   0   0   0   0   0   0   0   0   0   0   0   0   0   0   0   0   0   0\n",
            "   0   0   0   0]\n"
          ]
        }
      ]
    },
    {
      "cell_type": "code",
      "metadata": {
        "id": "AIY4ySAbs8qU",
        "colab": {
          "base_uri": "https://localhost:8080/"
        },
        "outputId": "ba6b4b34-181e-4364-ba72-c65065b3f327"
      },
      "source": [
        "print(padded_train.shape)\n",
        "print(padded_test.shape)"
      ],
      "execution_count": 52,
      "outputs": [
        {
          "output_type": "stream",
          "name": "stdout",
          "text": [
            "(4000, 40)\n",
            "(500, 40)\n"
          ]
        }
      ]
    },
    {
      "cell_type": "code",
      "metadata": {
        "id": "4kR58BQaqtil"
      },
      "source": [
        "y_train_arr = np.asarray(y_train)    # de Series --> array\n",
        "y_validation_arr = np.asarray(y_validation)\n",
        "y_test_arr = np.asarray(y_test)"
      ],
      "execution_count": 53,
      "outputs": []
    },
    {
      "cell_type": "code",
      "metadata": {
        "id": "ihQ8qv9c0c-l",
        "colab": {
          "base_uri": "https://localhost:8080/"
        },
        "outputId": "0d723ae3-df03-4a4d-f561-1e502c7f5ed9"
      },
      "source": [
        "# veamos qué tan bien quedaron repartidas las clases en cada conjunto:\n",
        "print('Conjunto inicial:', sum(Y)/len(Y))\n",
        "\n",
        "print('Conjunto de entrenamiento:', sum(y_train)/len(y_train))\n",
        "print('Conjunto de valicación:',  sum(y_validation)/len(y_validation))\n",
        "print('Conjunto de prueba:', sum(y_test)/len(y_test))"
      ],
      "execution_count": 54,
      "outputs": [
        {
          "output_type": "stream",
          "name": "stdout",
          "text": [
            "Conjunto inicial: 0.768\n",
            "Conjunto de entrenamiento: 0.771\n",
            "Conjunto de valicación: 0.79\n",
            "Conjunto de prueba: 0.722\n"
          ]
        }
      ]
    },
    {
      "cell_type": "markdown",
      "source": [
        "# **La Tarea consiste en encontrar la arquitectura que nos genere un modelo que no esté subentrenado o sobreentrenado.**\n",
        "\n",
        "# **Diremos que el modelo no está sobreentrenado si la diferencia entre el accuracy del conjunto de Entrenamiento y el de Validación es menor al 3%.**"
      ],
      "metadata": {
        "id": "yazkBVhPQLro"
      }
    },
    {
      "cell_type": "code",
      "metadata": {
        "id": "TFj7S8_tjR9j",
        "colab": {
          "base_uri": "https://localhost:8080/"
        },
        "outputId": "0a1e6d58-8f39-484b-920d-4d5cde4e54c7"
      },
      "source": [
        "model = Sequential()\n",
        "\n",
        "# embeddidng layer:\n",
        "model.add(Embedding(input_dim=total_words, output_dim = 8, embeddings_initializer='uniform'))    # 256\n",
        "model.add(LSTM(8, return_sequences=True))\n",
        "model.add(Dropout(0.40))\n",
        "\n",
        "\n",
        "'''\n",
        "model.add(LSTM(256, return_sequences=True))\n",
        "#model.add(Dropout(0.3))   # si deseas agregar DropOut\n",
        "\n",
        "model.add(LSTM(128, return_sequences=True))\n",
        "model.add(Dropout(None))\n",
        "\n",
        "model.add(LSTM(128, return_sequences=True))\n",
        "model.add(Dropout(None))\n",
        "\n",
        "model.add(LSTM(64, return_sequences=True))\n",
        "model.add(Dropout(None))\n",
        "'''\n",
        "model.add(LSTM(12))\n",
        "\n",
        "\n",
        "\n",
        "# Dense layers\n",
        "model.add(Dense(32, activation = 'relu'))\n",
        "#model.add(Dropout(None))\n",
        "\n",
        "model.add(Dense(1,activation= 'sigmoid'))\n",
        "\n",
        "\n",
        "model.compile(optimizer='adam', loss='binary_crossentropy', metrics=['acc'])\n",
        "model.summary()"
      ],
      "execution_count": 66,
      "outputs": [
        {
          "output_type": "stream",
          "name": "stdout",
          "text": [
            "Model: \"sequential_2\"\n",
            "_________________________________________________________________\n",
            " Layer (type)                Output Shape              Param #   \n",
            "=================================================================\n",
            " embedding_2 (Embedding)     (None, None, 8)           7696      \n",
            "                                                                 \n",
            " lstm_4 (LSTM)               (None, None, 8)           544       \n",
            "                                                                 \n",
            " dropout_2 (Dropout)         (None, None, 8)           0         \n",
            "                                                                 \n",
            " lstm_5 (LSTM)               (None, 12)                1008      \n",
            "                                                                 \n",
            " dense_4 (Dense)             (None, 32)                416       \n",
            "                                                                 \n",
            " dense_5 (Dense)             (None, 1)                 33        \n",
            "                                                                 \n",
            "=================================================================\n",
            "Total params: 9697 (37.88 KB)\n",
            "Trainable params: 9697 (37.88 KB)\n",
            "Non-trainable params: 0 (0.00 Byte)\n",
            "_________________________________________________________________\n"
          ]
        }
      ]
    },
    {
      "cell_type": "code",
      "metadata": {
        "id": "XxWwq2d4qtXT",
        "colab": {
          "base_uri": "https://localhost:8080/"
        },
        "outputId": "cde505ce-05c8-4fc3-9c51-e0a71388d621"
      },
      "source": [
        "n_epochs = 4     # número de épocas\n",
        "n_batch = 84 # 128   # tamaño de bloques de entrenamiento\n",
        "\n",
        "H = model.fit(padded_train, y_train_arr, batch_size = n_batch, validation_data=(padded_validation, y_validation_arr), epochs = n_epochs)"
      ],
      "execution_count": 67,
      "outputs": [
        {
          "output_type": "stream",
          "name": "stdout",
          "text": [
            "Epoch 1/4\n",
            "48/48 [==============================] - 12s 158ms/step - loss: 0.5987 - acc: 0.7648 - val_loss: 0.5121 - val_acc: 0.7900\n",
            "Epoch 2/4\n",
            "48/48 [==============================] - 3s 68ms/step - loss: 0.5238 - acc: 0.7710 - val_loss: 0.4920 - val_acc: 0.7900\n",
            "Epoch 3/4\n",
            "48/48 [==============================] - 2s 51ms/step - loss: 0.4276 - acc: 0.8167 - val_loss: 0.3427 - val_acc: 0.8580\n",
            "Epoch 4/4\n",
            "48/48 [==============================] - 1s 28ms/step - loss: 0.3179 - acc: 0.8725 - val_loss: 0.3435 - val_acc: 0.8540\n"
          ]
        }
      ]
    },
    {
      "cell_type": "code",
      "metadata": {
        "id": "PiMt5G_Z2yHL",
        "colab": {
          "base_uri": "https://localhost:8080/",
          "height": 937
        },
        "outputId": "4bf15638-0bec-48cd-a8b5-7f6d428c9ff5"
      },
      "source": [
        "plt.style.use(\"ggplot\")\n",
        "plt.figure()\n",
        "plt.plot(np.arange(0,n_epochs),H.history[\"acc\"],label=\"train_acc\")\n",
        "plt.plot(np.arange(0,n_epochs),H.history[\"val_acc\"],label=\"val_acc\")\n",
        "plt.title(\"Training and Validation Accuracy\")\n",
        "plt.xlabel(\"Epoch\")\n",
        "plt.ylabel(\"Accuracy\")\n",
        "plt.legend()\n",
        "\n",
        "plt.figure()\n",
        "plt.plot(np.arange(0,n_epochs),H.history[\"loss\"],label=\"train_loss\")\n",
        "plt.plot(np.arange(0,n_epochs),H.history[\"val_loss\"],label=\"val_loss\")\n",
        "plt.title(\"Training and Validation Loss\")\n",
        "plt.xlabel(\"Epoch\")\n",
        "plt.ylabel(\"Loss\")\n",
        "plt.legend()\n",
        "\n",
        "plt.show()"
      ],
      "execution_count": 68,
      "outputs": [
        {
          "output_type": "display_data",
          "data": {
            "text/plain": [
              "<Figure size 640x480 with 1 Axes>"
            ],
            "image/png": "[encoded data removed]"
          },
          "metadata": {}
        },
        {
          "output_type": "display_data",
          "data": {
            "text/plain": [
              "<Figure size 640x480 with 1 Axes>"
            ],
            "image/png": "[encoded data removed]"
          },
          "metadata": {}
        }
      ]
    },
    {
      "cell_type": "code",
      "metadata": {
        "id": "mwEGT3zNqtTp",
        "colab": {
          "base_uri": "https://localhost:8080/"
        },
        "outputId": "00abeb60-da5d-419c-9b55-88f9046630a2"
      },
      "source": [
        "# make prediction\n",
        "pred = model.predict(padded_test)"
      ],
      "execution_count": 69,
      "outputs": [
        {
          "output_type": "stream",
          "name": "stdout",
          "text": [
            "16/16 [==============================] - 1s 4ms/step\n"
          ]
        }
      ]
    },
    {
      "cell_type": "code",
      "metadata": {
        "id": "00P6zPsRx39g",
        "colab": {
          "base_uri": "https://localhost:8080/"
        },
        "outputId": "ce1fa6d4-a524-4519-a1dc-70249d5d7b22"
      },
      "source": [
        "padded_test.shape"
      ],
      "execution_count": 70,
      "outputs": [
        {
          "output_type": "execute_result",
          "data": {
            "text/plain": [
              "(500, 40)"
            ]
          },
          "metadata": {},
          "execution_count": 70
        }
      ]
    },
    {
      "cell_type": "code",
      "metadata": {
        "id": "S6Wl9_LvqtQS"
      },
      "source": [
        "# if the predicted value is >0.5 it is real else it is fake\n",
        "prediction = []\n",
        "for i in range(len(pred)):\n",
        "    if pred[i].item() > 0.5:  # podemos buscar el mejor umbral...\n",
        "        prediction.append(1)\n",
        "    else:\n",
        "        prediction.append(0)"
      ],
      "execution_count": 71,
      "outputs": []
    },
    {
      "cell_type": "code",
      "metadata": {
        "id": "QjwtmLanqtMS",
        "colab": {
          "base_uri": "https://localhost:8080/"
        },
        "outputId": "a37824b7-add2-45f0-f20a-d0b1db418e0b"
      },
      "source": [
        "# getting the accuracy\n",
        "from sklearn.metrics import accuracy_score\n",
        "\n",
        "accuracy = accuracy_score(list(y_test_arr), prediction)\n",
        "\n",
        "print(\"Model Accuracy : \", accuracy)"
      ],
      "execution_count": 72,
      "outputs": [
        {
          "output_type": "stream",
          "name": "stdout",
          "text": [
            "Model Accuracy :  0.802\n"
          ]
        }
      ]
    },
    {
      "cell_type": "code",
      "metadata": {
        "id": "iYNRTDxsXyAs",
        "colab": {
          "base_uri": "https://localhost:8080/"
        },
        "outputId": "a643057e-0f5e-4073-e8af-79345acf3321"
      },
      "source": [
        "# se puede calcular de manera más sencilla, pero por default el umbral es 0.5\n",
        "predic = np.round(pred)\n",
        "accuracy_score(list(y_test_arr), predic)"
      ],
      "execution_count": 73,
      "outputs": [
        {
          "output_type": "execute_result",
          "data": {
            "text/plain": [
              "0.802"
            ]
          },
          "metadata": {},
          "execution_count": 73
        }
      ]
    },
    {
      "cell_type": "code",
      "metadata": {
        "id": "XL2oxHBrqtIO",
        "colab": {
          "base_uri": "https://localhost:8080/"
        },
        "outputId": "864f4085-e01a-4d5f-a360-27c653f4a706"
      },
      "source": [
        "# get the confusion matrix\n",
        "from sklearn.metrics import confusion_matrix\n",
        "cm = confusion_matrix(list(y_test_arr), prediction)\n",
        "print(cm)\n"
      ],
      "execution_count": 74,
      "outputs": [
        {
          "output_type": "stream",
          "name": "stdout",
          "text": [
            "[[ 62  77]\n",
            " [ 22 339]]\n"
          ]
        }
      ]
    },
    {
      "cell_type": "markdown",
      "source": [
        "Bajamos considerablemente las capas predeterminadas en el ejercicio a **8 LSTM**, esto debido a que el data set no requiere de tanto nivel de procesamiento. Entendiendo que una capa LSTM más pequeña tiene menos parámetros y, por lo tanto, es menos probable que aprenda patrones específicos del conjunto de entrenamiento y por lo tanto simplificar su procesamiento y entendimiento.\n",
        "\n",
        "Adicional, decidimos agregar el valor de **Dropout** sabiendo que esto nos podría ayudar a regularizar y prevenir el sobreajuste del modelo. Este ajuste ayuda a que el modelo no dependa excesivamente de ninguna neurona específica o combinación de neuronas para hacer predicciones, obligando a que la red neuronal aprenda características más robustas y generalizables de los datos, lo que a su vez ayuda a prevenir el sobreajuste. **Probamos varios valores, siendo el de 0.40 el que nos devolvió 3 veces una diferencia de precisión entre set de entrenamiento y validación,menor de 3% con una precisión del modelo de 80.2%** con el set de entrenamiento.\n",
        "\n",
        "Otro cambio que probamos fue el # de épocas y tamaño de los batchs, viendo que obtuvimos mejores resultados los cuando disminuimos a **4 épocas, con tamaño de lotes de 84**. Lo cual nos dice que para ese set de datos con 6 transiciones entre las neuornas son suficientes para que el modelo no haga sobreajustes.\n",
        "\n",
        "![image.png](data:image/png;base64,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)"
      ],
      "metadata": {
        "id": "KCax-Bl7Usea"
      }
    },
    {
      "cell_type": "markdown",
      "source": [],
      "metadata": {
        "id": "OHYUT4ZqYH03"
      }
    }
  ]
}